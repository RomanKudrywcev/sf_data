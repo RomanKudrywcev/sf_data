{
 "cells": [
  {
   "cell_type": "markdown",
   "id": "6eab46f6",
   "metadata": {},
   "source": [
    "# Игра угадай число меньше чем за 20 попыток."
   ]
  },
  {
   "cell_type": "code",
   "execution_count": null,
   "id": "39a5196a",
   "metadata": {},
   "outputs": [],
   "source": [
    "import game_3\n"
   ]
  },
  {
   "cell_type": "code",
   "execution_count": 5,
   "id": "3a4d07b8",
   "metadata": {},
   "outputs": [],
   "source": [
    "from game_3 import score_game, random_predict_2"
   ]
  },
  {
   "cell_type": "code",
   "execution_count": 6,
   "id": "593108c5",
   "metadata": {},
   "outputs": [
    {
     "name": "stdout",
     "output_type": "stream",
     "text": [
      "Ваш алгоритм угадывает число в среднем за: 5 попыток\n"
     ]
    },
    {
     "data": {
      "text/plain": [
       "5"
      ]
     },
     "execution_count": 6,
     "metadata": {},
     "output_type": "execute_result"
    }
   ],
   "source": [
    "score_game(random_predict_2)"
   ]
  }
 ],
 "metadata": {
  "kernelspec": {
   "display_name": "Python 3",
   "language": "python",
   "name": "python3"
  },
  "language_info": {
   "codemirror_mode": {
    "name": "ipython",
    "version": 3
   },
   "file_extension": ".py",
   "mimetype": "text/x-python",
   "name": "python",
   "nbconvert_exporter": "python",
   "pygments_lexer": "ipython3",
   "version": "3.12.1"
  }
 },
 "nbformat": 4,
 "nbformat_minor": 5
}
